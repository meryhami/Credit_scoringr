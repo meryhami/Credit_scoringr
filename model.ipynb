{
 "cells": [
  {
   "cell_type": "code",
   "execution_count": 1,
   "metadata": {},
   "outputs": [],
   "source": [
    "import pandas as pd\n",
    "import numpy as np\n",
    "import matplotlib.pyplot as plt\n",
    "import itertools\n",
    "from sklearn.metrics import confusion_matrix\n"
   ]
  },
  {
   "cell_type": "code",
   "execution_count": 1,
   "metadata": {},
   "outputs": [],
   "source": []
  },
  {
   "cell_type": "code",
   "execution_count": 2,
   "metadata": {},
   "outputs": [],
   "source": [
    "df = pd.read_csv(\"C:/Users/po/Downloads/sopra projet/j/hmeq.csv\")\n",
    "\n"
   ]
  },
  {
   "cell_type": "code",
   "execution_count": 3,
   "metadata": {},
   "outputs": [
    {
     "data": {
      "text/plain": "   BAD  LOAN  MORTDUE     VALUE   REASON     JOB   YOJ  DEROG  DELINQ  \\\n0    1  1100  25860.0   39025.0  HomeImp   Other  10.5    0.0     0.0   \n1    1  1300  70053.0   68400.0  HomeImp   Other   7.0    0.0     2.0   \n2    1  1500  13500.0   16700.0  HomeImp   Other   4.0    0.0     0.0   \n3    1  1500      NaN       NaN      NaN     NaN   NaN    NaN     NaN   \n4    0  1700  97800.0  112000.0  HomeImp  Office   3.0    0.0     0.0   \n\n        CLAGE  NINQ  CLNO  DEBTINC  \n0   94.366667   1.0   9.0      NaN  \n1  121.833333   0.0  14.0      NaN  \n2  149.466667   1.0  10.0      NaN  \n3         NaN   NaN   NaN      NaN  \n4   93.333333   0.0  14.0      NaN  ",
      "text/html": "<div>\n<style scoped>\n    .dataframe tbody tr th:only-of-type {\n        vertical-align: middle;\n    }\n\n    .dataframe tbody tr th {\n        vertical-align: top;\n    }\n\n    .dataframe thead th {\n        text-align: right;\n    }\n</style>\n<table border=\"1\" class=\"dataframe\">\n  <thead>\n    <tr style=\"text-align: right;\">\n      <th></th>\n      <th>BAD</th>\n      <th>LOAN</th>\n      <th>MORTDUE</th>\n      <th>VALUE</th>\n      <th>REASON</th>\n      <th>JOB</th>\n      <th>YOJ</th>\n      <th>DEROG</th>\n      <th>DELINQ</th>\n      <th>CLAGE</th>\n      <th>NINQ</th>\n      <th>CLNO</th>\n      <th>DEBTINC</th>\n    </tr>\n  </thead>\n  <tbody>\n    <tr>\n      <th>0</th>\n      <td>1</td>\n      <td>1100</td>\n      <td>25860.0</td>\n      <td>39025.0</td>\n      <td>HomeImp</td>\n      <td>Other</td>\n      <td>10.5</td>\n      <td>0.0</td>\n      <td>0.0</td>\n      <td>94.366667</td>\n      <td>1.0</td>\n      <td>9.0</td>\n      <td>NaN</td>\n    </tr>\n    <tr>\n      <th>1</th>\n      <td>1</td>\n      <td>1300</td>\n      <td>70053.0</td>\n      <td>68400.0</td>\n      <td>HomeImp</td>\n      <td>Other</td>\n      <td>7.0</td>\n      <td>0.0</td>\n      <td>2.0</td>\n      <td>121.833333</td>\n      <td>0.0</td>\n      <td>14.0</td>\n      <td>NaN</td>\n    </tr>\n    <tr>\n      <th>2</th>\n      <td>1</td>\n      <td>1500</td>\n      <td>13500.0</td>\n      <td>16700.0</td>\n      <td>HomeImp</td>\n      <td>Other</td>\n      <td>4.0</td>\n      <td>0.0</td>\n      <td>0.0</td>\n      <td>149.466667</td>\n      <td>1.0</td>\n      <td>10.0</td>\n      <td>NaN</td>\n    </tr>\n    <tr>\n      <th>3</th>\n      <td>1</td>\n      <td>1500</td>\n      <td>NaN</td>\n      <td>NaN</td>\n      <td>NaN</td>\n      <td>NaN</td>\n      <td>NaN</td>\n      <td>NaN</td>\n      <td>NaN</td>\n      <td>NaN</td>\n      <td>NaN</td>\n      <td>NaN</td>\n      <td>NaN</td>\n    </tr>\n    <tr>\n      <th>4</th>\n      <td>0</td>\n      <td>1700</td>\n      <td>97800.0</td>\n      <td>112000.0</td>\n      <td>HomeImp</td>\n      <td>Office</td>\n      <td>3.0</td>\n      <td>0.0</td>\n      <td>0.0</td>\n      <td>93.333333</td>\n      <td>0.0</td>\n      <td>14.0</td>\n      <td>NaN</td>\n    </tr>\n  </tbody>\n</table>\n</div>"
     },
     "execution_count": 3,
     "metadata": {},
     "output_type": "execute_result"
    }
   ],
   "source": [
    "df.head()\n"
   ]
  },
  {
   "cell_type": "code",
   "execution_count": 4,
   "metadata": {},
   "outputs": [
    {
     "data": {
      "text/plain": "(5960, 13)"
     },
     "execution_count": 4,
     "metadata": {},
     "output_type": "execute_result"
    }
   ],
   "source": [
    "df.shape\n"
   ]
  },
  {
   "cell_type": "code",
   "execution_count": 5,
   "metadata": {},
   "outputs": [
    {
     "name": "stdout",
     "output_type": "stream",
     "text": [
      "<class 'pandas.core.frame.DataFrame'>\n",
      "RangeIndex: 5960 entries, 0 to 5959\n",
      "Data columns (total 13 columns):\n",
      " #   Column   Non-Null Count  Dtype  \n",
      "---  ------   --------------  -----  \n",
      " 0   BAD      5960 non-null   int64  \n",
      " 1   LOAN     5960 non-null   int64  \n",
      " 2   MORTDUE  5442 non-null   float64\n",
      " 3   VALUE    5848 non-null   float64\n",
      " 4   REASON   5708 non-null   object \n",
      " 5   JOB      5681 non-null   object \n",
      " 6   YOJ      5445 non-null   float64\n",
      " 7   DEROG    5252 non-null   float64\n",
      " 8   DELINQ   5380 non-null   float64\n",
      " 9   CLAGE    5652 non-null   float64\n",
      " 10  NINQ     5450 non-null   float64\n",
      " 11  CLNO     5738 non-null   float64\n",
      " 12  DEBTINC  4693 non-null   float64\n",
      "dtypes: float64(9), int64(2), object(2)\n",
      "memory usage: 605.4+ KB\n"
     ]
    }
   ],
   "source": [
    "df.info()"
   ]
  },
  {
   "cell_type": "code",
   "execution_count": 6,
   "metadata": {},
   "outputs": [
    {
     "data": {
      "text/plain": "               BAD          LOAN        MORTDUE          VALUE          YOJ  \\\ncount  5960.000000   5960.000000    5442.000000    5848.000000  5445.000000   \nmean      0.199497  18607.969799   73760.817200  101776.048741     8.922268   \nstd       0.399656  11207.480417   44457.609458   57385.775334     7.573982   \nmin       0.000000   1100.000000    2063.000000    8000.000000     0.000000   \n25%       0.000000  11100.000000   46276.000000   66075.500000     3.000000   \n50%       0.000000  16300.000000   65019.000000   89235.500000     7.000000   \n75%       0.000000  23300.000000   91488.000000  119824.250000    13.000000   \nmax       1.000000  89900.000000  399550.000000  855909.000000    41.000000   \n\n             DEROG       DELINQ        CLAGE         NINQ         CLNO  \\\ncount  5252.000000  5380.000000  5652.000000  5450.000000  5738.000000   \nmean      0.254570     0.449442   179.766275     1.186055    21.296096   \nstd       0.846047     1.127266    85.810092     1.728675    10.138933   \nmin       0.000000     0.000000     0.000000     0.000000     0.000000   \n25%       0.000000     0.000000   115.116702     0.000000    15.000000   \n50%       0.000000     0.000000   173.466667     1.000000    20.000000   \n75%       0.000000     0.000000   231.562278     2.000000    26.000000   \nmax      10.000000    15.000000  1168.233561    17.000000    71.000000   \n\n           DEBTINC  \ncount  4693.000000  \nmean     33.779915  \nstd       8.601746  \nmin       0.524499  \n25%      29.140031  \n50%      34.818262  \n75%      39.003141  \nmax     203.312149  ",
      "text/html": "<div>\n<style scoped>\n    .dataframe tbody tr th:only-of-type {\n        vertical-align: middle;\n    }\n\n    .dataframe tbody tr th {\n        vertical-align: top;\n    }\n\n    .dataframe thead th {\n        text-align: right;\n    }\n</style>\n<table border=\"1\" class=\"dataframe\">\n  <thead>\n    <tr style=\"text-align: right;\">\n      <th></th>\n      <th>BAD</th>\n      <th>LOAN</th>\n      <th>MORTDUE</th>\n      <th>VALUE</th>\n      <th>YOJ</th>\n      <th>DEROG</th>\n      <th>DELINQ</th>\n      <th>CLAGE</th>\n      <th>NINQ</th>\n      <th>CLNO</th>\n      <th>DEBTINC</th>\n    </tr>\n  </thead>\n  <tbody>\n    <tr>\n      <th>count</th>\n      <td>5960.000000</td>\n      <td>5960.000000</td>\n      <td>5442.000000</td>\n      <td>5848.000000</td>\n      <td>5445.000000</td>\n      <td>5252.000000</td>\n      <td>5380.000000</td>\n      <td>5652.000000</td>\n      <td>5450.000000</td>\n      <td>5738.000000</td>\n      <td>4693.000000</td>\n    </tr>\n    <tr>\n      <th>mean</th>\n      <td>0.199497</td>\n      <td>18607.969799</td>\n      <td>73760.817200</td>\n      <td>101776.048741</td>\n      <td>8.922268</td>\n      <td>0.254570</td>\n      <td>0.449442</td>\n      <td>179.766275</td>\n      <td>1.186055</td>\n      <td>21.296096</td>\n      <td>33.779915</td>\n    </tr>\n    <tr>\n      <th>std</th>\n      <td>0.399656</td>\n      <td>11207.480417</td>\n      <td>44457.609458</td>\n      <td>57385.775334</td>\n      <td>7.573982</td>\n      <td>0.846047</td>\n      <td>1.127266</td>\n      <td>85.810092</td>\n      <td>1.728675</td>\n      <td>10.138933</td>\n      <td>8.601746</td>\n    </tr>\n    <tr>\n      <th>min</th>\n      <td>0.000000</td>\n      <td>1100.000000</td>\n      <td>2063.000000</td>\n      <td>8000.000000</td>\n      <td>0.000000</td>\n      <td>0.000000</td>\n      <td>0.000000</td>\n      <td>0.000000</td>\n      <td>0.000000</td>\n      <td>0.000000</td>\n      <td>0.524499</td>\n    </tr>\n    <tr>\n      <th>25%</th>\n      <td>0.000000</td>\n      <td>11100.000000</td>\n      <td>46276.000000</td>\n      <td>66075.500000</td>\n      <td>3.000000</td>\n      <td>0.000000</td>\n      <td>0.000000</td>\n      <td>115.116702</td>\n      <td>0.000000</td>\n      <td>15.000000</td>\n      <td>29.140031</td>\n    </tr>\n    <tr>\n      <th>50%</th>\n      <td>0.000000</td>\n      <td>16300.000000</td>\n      <td>65019.000000</td>\n      <td>89235.500000</td>\n      <td>7.000000</td>\n      <td>0.000000</td>\n      <td>0.000000</td>\n      <td>173.466667</td>\n      <td>1.000000</td>\n      <td>20.000000</td>\n      <td>34.818262</td>\n    </tr>\n    <tr>\n      <th>75%</th>\n      <td>0.000000</td>\n      <td>23300.000000</td>\n      <td>91488.000000</td>\n      <td>119824.250000</td>\n      <td>13.000000</td>\n      <td>0.000000</td>\n      <td>0.000000</td>\n      <td>231.562278</td>\n      <td>2.000000</td>\n      <td>26.000000</td>\n      <td>39.003141</td>\n    </tr>\n    <tr>\n      <th>max</th>\n      <td>1.000000</td>\n      <td>89900.000000</td>\n      <td>399550.000000</td>\n      <td>855909.000000</td>\n      <td>41.000000</td>\n      <td>10.000000</td>\n      <td>15.000000</td>\n      <td>1168.233561</td>\n      <td>17.000000</td>\n      <td>71.000000</td>\n      <td>203.312149</td>\n    </tr>\n  </tbody>\n</table>\n</div>"
     },
     "execution_count": 6,
     "metadata": {},
     "output_type": "execute_result"
    }
   ],
   "source": [
    "df.describe()\n"
   ]
  },
  {
   "cell_type": "code",
   "execution_count": 7,
   "metadata": {},
   "outputs": [
    {
     "data": {
      "text/plain": "Index(['BAD', 'LOAN', 'MORTDUE', 'VALUE', 'REASON', 'JOB', 'YOJ', 'DEROG',\n       'DELINQ', 'CLAGE', 'NINQ', 'CLNO', 'DEBTINC'],\n      dtype='object')"
     },
     "execution_count": 7,
     "metadata": {},
     "output_type": "execute_result"
    }
   ],
   "source": [
    "df.columns\n"
   ]
  },
  {
   "cell_type": "code",
   "execution_count": 8,
   "metadata": {},
   "outputs": [
    {
     "data": {
      "text/plain": "BAD           0\nLOAN          0\nMORTDUE     518\nVALUE       112\nREASON      252\nJOB         279\nYOJ         515\nDEROG       708\nDELINQ      580\nCLAGE       308\nNINQ        510\nCLNO        222\nDEBTINC    1267\ndtype: int64"
     },
     "execution_count": 8,
     "metadata": {},
     "output_type": "execute_result"
    }
   ],
   "source": [
    "df.isnull().sum()\n"
   ]
  },
  {
   "cell_type": "code",
   "execution_count": 9,
   "metadata": {},
   "outputs": [],
   "source": [
    "df[\"REASON\"].fillna(value = \"DebtCon\",inplace = True)\n",
    "df[\"JOB\"].fillna(value = \"Other\",inplace = True)"
   ]
  },
  {
   "cell_type": "code",
   "execution_count": 10,
   "metadata": {},
   "outputs": [],
   "source": [
    "df[\"DEROG\"].fillna(value=0,inplace=True)\n",
    "df[\"DELINQ\"].fillna(value=0,inplace=True)"
   ]
  },
  {
   "cell_type": "code",
   "execution_count": 11,
   "metadata": {},
   "outputs": [],
   "source": [
    "df.fillna(value=df.mean(),inplace=True)\n"
   ]
  },
  {
   "cell_type": "code",
   "execution_count": 12,
   "metadata": {},
   "outputs": [
    {
     "data": {
      "text/plain": "BAD        0\nLOAN       0\nMORTDUE    0\nVALUE      0\nREASON     0\nJOB        0\nYOJ        0\nDEROG      0\nDELINQ     0\nCLAGE      0\nNINQ       0\nCLNO       0\nDEBTINC    0\ndtype: int64"
     },
     "execution_count": 12,
     "metadata": {},
     "output_type": "execute_result"
    }
   ],
   "source": [
    "df.isnull().sum()\n"
   ]
  },
  {
   "cell_type": "code",
   "execution_count": 13,
   "metadata": {},
   "outputs": [
    {
     "data": {
      "text/plain": "   BAD  LOAN     MORTDUE          VALUE   REASON     JOB        YOJ  DEROG  \\\n0    1  1100  25860.0000   39025.000000  HomeImp   Other  10.500000    0.0   \n1    1  1300  70053.0000   68400.000000  HomeImp   Other   7.000000    0.0   \n2    1  1500  13500.0000   16700.000000  HomeImp   Other   4.000000    0.0   \n3    1  1500  73760.8172  101776.048741  DebtCon   Other   8.922268    0.0   \n4    0  1700  97800.0000  112000.000000  HomeImp  Office   3.000000    0.0   \n\n   DELINQ       CLAGE      NINQ       CLNO    DEBTINC  \n0     0.0   94.366667  1.000000   9.000000  33.779915  \n1     2.0  121.833333  0.000000  14.000000  33.779915  \n2     0.0  149.466667  1.000000  10.000000  33.779915  \n3     0.0  179.766275  1.186055  21.296096  33.779915  \n4     0.0   93.333333  0.000000  14.000000  33.779915  ",
      "text/html": "<div>\n<style scoped>\n    .dataframe tbody tr th:only-of-type {\n        vertical-align: middle;\n    }\n\n    .dataframe tbody tr th {\n        vertical-align: top;\n    }\n\n    .dataframe thead th {\n        text-align: right;\n    }\n</style>\n<table border=\"1\" class=\"dataframe\">\n  <thead>\n    <tr style=\"text-align: right;\">\n      <th></th>\n      <th>BAD</th>\n      <th>LOAN</th>\n      <th>MORTDUE</th>\n      <th>VALUE</th>\n      <th>REASON</th>\n      <th>JOB</th>\n      <th>YOJ</th>\n      <th>DEROG</th>\n      <th>DELINQ</th>\n      <th>CLAGE</th>\n      <th>NINQ</th>\n      <th>CLNO</th>\n      <th>DEBTINC</th>\n    </tr>\n  </thead>\n  <tbody>\n    <tr>\n      <th>0</th>\n      <td>1</td>\n      <td>1100</td>\n      <td>25860.0000</td>\n      <td>39025.000000</td>\n      <td>HomeImp</td>\n      <td>Other</td>\n      <td>10.500000</td>\n      <td>0.0</td>\n      <td>0.0</td>\n      <td>94.366667</td>\n      <td>1.000000</td>\n      <td>9.000000</td>\n      <td>33.779915</td>\n    </tr>\n    <tr>\n      <th>1</th>\n      <td>1</td>\n      <td>1300</td>\n      <td>70053.0000</td>\n      <td>68400.000000</td>\n      <td>HomeImp</td>\n      <td>Other</td>\n      <td>7.000000</td>\n      <td>0.0</td>\n      <td>2.0</td>\n      <td>121.833333</td>\n      <td>0.000000</td>\n      <td>14.000000</td>\n      <td>33.779915</td>\n    </tr>\n    <tr>\n      <th>2</th>\n      <td>1</td>\n      <td>1500</td>\n      <td>13500.0000</td>\n      <td>16700.000000</td>\n      <td>HomeImp</td>\n      <td>Other</td>\n      <td>4.000000</td>\n      <td>0.0</td>\n      <td>0.0</td>\n      <td>149.466667</td>\n      <td>1.000000</td>\n      <td>10.000000</td>\n      <td>33.779915</td>\n    </tr>\n    <tr>\n      <th>3</th>\n      <td>1</td>\n      <td>1500</td>\n      <td>73760.8172</td>\n      <td>101776.048741</td>\n      <td>DebtCon</td>\n      <td>Other</td>\n      <td>8.922268</td>\n      <td>0.0</td>\n      <td>0.0</td>\n      <td>179.766275</td>\n      <td>1.186055</td>\n      <td>21.296096</td>\n      <td>33.779915</td>\n    </tr>\n    <tr>\n      <th>4</th>\n      <td>0</td>\n      <td>1700</td>\n      <td>97800.0000</td>\n      <td>112000.000000</td>\n      <td>HomeImp</td>\n      <td>Office</td>\n      <td>3.000000</td>\n      <td>0.0</td>\n      <td>0.0</td>\n      <td>93.333333</td>\n      <td>0.000000</td>\n      <td>14.000000</td>\n      <td>33.779915</td>\n    </tr>\n  </tbody>\n</table>\n</div>"
     },
     "execution_count": 13,
     "metadata": {},
     "output_type": "execute_result"
    }
   ],
   "source": [
    "df.head()\n"
   ]
  },
  {
   "cell_type": "code",
   "execution_count": 14,
   "metadata": {},
   "outputs": [],
   "source": [
    "# importing the required modules\n",
    "from sklearn.model_selection import train_test_split\n",
    "from sklearn.tree import DecisionTreeClassifier\n",
    "x_basic = df.drop(columns=[\"BAD\",\"JOB\",\"REASON\"])\n",
    "y = df[\"BAD\"]\n",
    "\n",
    "# Spliting the data into test and train sets\n",
    "x_basic_tr,x_basic_te,y_tr,y_te = train_test_split(x_basic,y,test_size =.33,random_state=1)\n",
    "dectree_basic = DecisionTreeClassifier()\n",
    "dectree_basic.max_depth = 100\n",
    "# Training the basic Decision Tree model with training set \n",
    "dectree_basic.fit(x_basic_tr,y_tr)\n",
    "\n",
    "# Predicting the output of the test cases using the algorithm created above\n",
    "y_pre = dectree_basic.predict(x_basic_te)\n",
    "import pickle\n",
    "pickle.dump(dectree_basic,open('model.pkl','wb'))\n",
    "from sklearn.metrics import accuracy_score, f1_score, precision_score, recall_score"
   ]
  },
  {
   "cell_type": "code",
   "execution_count": 15,
   "metadata": {},
   "outputs": [],
   "source": [
    "def plot_confusion_matrix(cm, classes,\n",
    "                          normalize=False,\n",
    "                          title='Confusion matrix',\n",
    "                          cmap=plt.cm.Blues):\n",
    "    \"\"\"\n",
    "    This function prints and plots the confusion matrix.\n",
    "    Normalization can be applied by setting `normalize=True`.\n",
    "    \"\"\"\n",
    "    if normalize:\n",
    "        cm = cm.astype('float') / cm.sum(axis=1)[:, np.newaxis]\n",
    "        print(\"Normalized confusion matrix\")\n",
    "    else:\n",
    "        print('Confusion matrix, without normalization')\n",
    "\n",
    "    print(cm)\n",
    "\n",
    "    plt.imshow(cm, interpolation='nearest', cmap=cmap)\n",
    "    plt.title(title)\n",
    "    plt.colorbar()\n",
    "    tick_marks = np.arange(len(classes))\n",
    "    plt.xticks(tick_marks, classes, rotation=45)\n",
    "    plt.yticks(tick_marks, classes)\n",
    "\n",
    "    fmt = '.2f' if normalize else 'd'\n",
    "    thresh = cm.max() / 2.\n",
    "    for i, j in itertools.product(range(cm.shape[0]), range(cm.shape[1])):\n",
    "        plt.text(j, i, format(cm[i, j], fmt),\n",
    "                 horizontalalignment=\"center\",\n",
    "                 color=\"white\" if cm[i, j] > thresh else \"black\")\n",
    "\n",
    "    plt.tight_layout()\n",
    "    plt.ylabel('True label')\n",
    "    plt.xlabel('Predicted label')\n",
    "    "
   ]
  },
  {
   "cell_type": "code",
   "execution_count": 16,
   "metadata": {},
   "outputs": [
    {
     "name": "stdout",
     "output_type": "stream",
     "text": [
      "Confusion matrix, without normalization\n",
      "[[1442  119]\n",
      " [ 147  259]]\n",
      "[1 0 0 ... 0 0 0]\n"
     ]
    },
    {
     "data": {
      "text/plain": "<Figure size 432x288 with 2 Axes>",
      "image/png": "[encoded data removed]"
     },
     "metadata": {
      "needs_background": "light"
     },
     "output_type": "display_data"
    }
   ],
   "source": [
    "cnf_matrix = confusion_matrix(y_te, y_pre)\n",
    "np.set_printoptions(precision=2)\n",
    "\n",
    "# Plot non-normalized confusion matrix\n",
    "plt.figure()\n",
    "plot_confusion_matrix(cnf_matrix, classes=[\"BAD\"],\n",
    "                      title='Confusion matrix,Decision Tree Algorithm')\n",
    "\n",
    "plt.show()\n",
    "print(y_pre)"
   ]
  },
  {
   "cell_type": "code",
   "execution_count": 16,
   "metadata": {},
   "outputs": [],
   "source": []
  },
  {
   "cell_type": "code",
   "execution_count": 16,
   "metadata": {},
   "outputs": [],
   "source": []
  },
  {
   "cell_type": "code",
   "execution_count": 16,
   "metadata": {},
   "outputs": [],
   "source": []
  }
 ],
 "metadata": {
  "kernelspec": {
   "display_name": "Python 3",
   "language": "python",
   "name": "python3"
  },
  "language_info": {
   "codemirror_mode": {
    "name": "ipython",
    "version": 3
   },
   "file_extension": ".py",
   "mimetype": "text/x-python",
   "name": "python",
   "nbconvert_exporter": "python",
   "pygments_lexer": "ipython3",
   "version": "3.8.5"
  }
 },
 "nbformat": 4,
 "nbformat_minor": 4
}